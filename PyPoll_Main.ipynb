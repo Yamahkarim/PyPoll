{
 "cells": [
  {
   "cell_type": "markdown",
   "metadata": {},
   "source": [
    "# PyPoll"
   ]
  },
  {
   "cell_type": "markdown",
   "metadata": {},
   "source": [
    "Create a Python script that analyzes the votes and calculates each of the following:\n",
    "\n",
    "    1.) The total number of votes cast\n",
    "\n",
    "    2.) A complete list of candidates who received votes\n",
    "\n",
    "    3.) The percentage of votes each candidate won\n",
    "\n",
    "    4.) The total number of votes each candidate won\n",
    "\n",
    "    5.) The winner of the election based on popular vote.\n",
    "\n"
   ]
  },
  {
   "cell_type": "code",
   "execution_count": 24,
   "metadata": {},
   "outputs": [],
   "source": [
    "#dependencies \n",
    "import os\n",
    "import csv"
   ]
  },
  {
   "cell_type": "code",
   "execution_count": 25,
   "metadata": {},
   "outputs": [],
   "source": [
    "#import CSV \n",
    "csvpath = 'Data/election_data.csv'"
   ]
  },
  {
   "cell_type": "code",
   "execution_count": 26,
   "metadata": {},
   "outputs": [],
   "source": [
    "#read CSV \n",
    "with open(csvpath, 'r') as csvfile:\n",
    "    reader = csv.reader(csvfile, delimiter=',')\n",
    "\n",
    "    #skip header\n",
    "    csvheader = next(reader)\n",
    "\n",
    "    #create empty lists to hold data and perform calculations organized by candidate    \n",
    "    candidate = []\n",
    "    votes = []\n",
    "    name = [] \n",
    "    \n",
    "    for row in reader:\n",
    "        candidate.append(row[2])\n",
    "\n",
    "    #Use list comprhension to count the number of votes per candidate and output as dictionary\n",
    "    candidate_count = [[x, candidate.count(x)] for x in set(candidate)]\n",
    "    \n",
    "    for row in candidate_count:\n",
    "        name.append(row[0])\n",
    "        votes.append(row[1])\n",
    "    \n",
    "    #zip together vote count with corresponding candidate\n",
    "    candidate_zip = zip(name, votes)\n",
    "    candidate_list = list(candidate_zip)\n",
    "\n",
    "   #calculate winner by total votes \n",
    "    winner = max(votes)\n",
    "    \n",
    "    for row in candidate_list:\n",
    "        if row[1] == winner:\n",
    "            winner_name = row[0]\n",
    "\n",
    "\n",
    "\n",
    "\n",
    "    "
   ]
  },
  {
   "cell_type": "code",
   "execution_count": 27,
   "metadata": {},
   "outputs": [],
   "source": [
    "#Final Calculations \n",
    "\n",
    "# 1.) Total Vote Count \n",
    "total_votes = len(candidate) \n",
    "\n",
    "#2.) Complete list of candidates and vote percentage\n",
    "correy_total = candidate.count('Correy')\n",
    "correy_percent = int(correy_total) / int(total_votes)\n",
    "\n",
    "o_tooley_total = candidate.count(\"O'Tooley\")\n",
    "o_tooley_percent = o_tooley_total / total_votes\n",
    "\n",
    "li_total = candidate.count('Li')\n",
    "li_percent = li_total / total_votes\n",
    "\n",
    "khan_total = candidate.count('Khan')\n",
    "khan_percent = khan_total / total_votes\n"
   ]
  },
  {
   "cell_type": "code",
   "execution_count": 28,
   "metadata": {},
   "outputs": [
    {
     "name": "stdout",
     "output_type": "stream",
     "text": [
      "Election Results\n",
      "-------------------------\n",
      "Total Votes: 3521001\n",
      "-------------------------\n",
      "Khan: 63.0% (2218231)\n",
      "Correy: 20.0% (704200)\n",
      "Li: 14.0% (492940)\n",
      "O'Tooley: 3.0% (105630)\n",
      "-------------------------\n",
      "Winner: Khan\n",
      "-------------------------\n"
     ]
    }
   ],
   "source": [
    "#Print Results to console \n",
    "print(f'Election Results')\n",
    "print(f'-------------------------')\n",
    "print(f'Total Votes: {total_votes}')\n",
    "print(f'-------------------------')\n",
    "print(f'Khan: {khan_percent:.1%} ({khan_total})')\n",
    "print(f'Correy: {correy_percent:.1%} ({correy_total})')\n",
    "print(f'Li: {li_percent:.1%} ({li_total})')\n",
    "print(f\"O'Tooley: {o_tooley_percent:.1%} ({o_tooley_total})\")\n",
    "print(f'-------------------------')\n",
    "print(f'Winner: {winner_name}')\n",
    "print(f'-------------------------')"
   ]
  },
  {
   "cell_type": "code",
   "execution_count": 29,
   "metadata": {},
   "outputs": [],
   "source": [
    "#Print Results to a text file  \n",
    "with open('PyPoll.txt', 'w') as text_file:\n",
    "    print(f'Election Results', file=text_file)\n",
    "    print(f'-------------------------', file=text_file)\n",
    "    print(f'Total Votes: {total_votes}', file=text_file)\n",
    "    print(f'-------------------------', file=text_file)\n",
    "    print(f'Khan: {khan_percent:.3%} ({khan_total})', file=text_file)\n",
    "    print(f'Correy: {correy_percent:.3%} ({correy_total})', file=text_file)\n",
    "    print(f'Li: {li_percent:.3%} ({li_total})', file=text_file)\n",
    "    print(f\"O'Tooley: {o_tooley_percent:.3%} ({o_tooley_total})\", file=text_file)\n",
    "    print(f'-------------------------', file=text_file)\n",
    "    print(f'Winner: {winner_name}', file=text_file)\n",
    "    print(f'-------------------------', file=text_file)\n"
   ]
  },
  {
   "cell_type": "code",
   "execution_count": null,
   "metadata": {},
   "outputs": [],
   "source": []
  }
 ],
 "metadata": {
  "kernelspec": {
   "display_name": "Python 3",
   "language": "python",
   "name": "python3"
  },
  "language_info": {
   "codemirror_mode": {
    "name": "ipython",
    "version": 3
   },
   "file_extension": ".py",
   "mimetype": "text/x-python",
   "name": "python",
   "nbconvert_exporter": "python",
   "pygments_lexer": "ipython3",
   "version": "3.7.1"
  }
 },
 "nbformat": 4,
 "nbformat_minor": 2
}
